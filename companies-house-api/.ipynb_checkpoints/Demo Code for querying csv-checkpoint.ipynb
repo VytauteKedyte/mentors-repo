{
 "cells": [
  {
   "cell_type": "markdown",
   "metadata": {},
   "source": [
    "# Demo Code on how to filter csv to retrieve set of CRNs to query Companies House API"
   ]
  },
  {
   "cell_type": "code",
   "execution_count": 1,
   "metadata": {},
   "outputs": [],
   "source": [
    "import pandas as pd\n",
    "from query_companies_house import main"
   ]
  },
  {
   "cell_type": "code",
   "execution_count": 2,
   "metadata": {},
   "outputs": [],
   "source": [
    "df = pd.read_csv(\"UK_Gender_Pay_Gap_Data_2017_to_2018.csv\")"
   ]
  },
  {
   "cell_type": "code",
   "execution_count": 3,
   "metadata": {},
   "outputs": [
    {
     "data": {
      "text/plain": [
       "Index(['EmployerName', 'Address', 'CompanyNumber', 'SicCodes',\n",
       "       'DiffMeanHourlyPercent', 'DiffMedianHourlyPercent',\n",
       "       'DiffMeanBonusPercent', 'DiffMedianBonusPercent', 'MaleBonusPercent',\n",
       "       'FemaleBonusPercent', 'MaleLowerQuartile', 'FemaleLowerQuartile',\n",
       "       'MaleLowerMiddleQuartile', 'FemaleLowerMiddleQuartile',\n",
       "       'MaleUpperMiddleQuartile', 'FemaleUpperMiddleQuartile',\n",
       "       'MaleTopQuartile', 'FemaleTopQuartile', 'CompanyLinkToGPGInfo',\n",
       "       'ResponsiblePerson', 'EmployerSize', 'CurrentName',\n",
       "       'SubmittedAfterTheDeadline'],\n",
       "      dtype='object')"
      ]
     },
     "execution_count": 3,
     "metadata": {},
     "output_type": "execute_result"
    }
   ],
   "source": [
    "df.columns"
   ]
  },
  {
   "cell_type": "code",
   "execution_count": 4,
   "metadata": {},
   "outputs": [
    {
     "data": {
      "text/plain": [
       "0            500 to 999\n",
       "1            250 to 499\n",
       "2            500 to 999\n",
       "3            250 to 499\n",
       "4            250 to 499\n",
       "5            250 to 499\n",
       "6            500 to 999\n",
       "7            250 to 499\n",
       "8            250 to 499\n",
       "9            250 to 499\n",
       "10       5000 to 19,999\n",
       "11         1000 to 4999\n",
       "12         1000 to 4999\n",
       "13         1000 to 4999\n",
       "14           500 to 999\n",
       "15           500 to 999\n",
       "16           250 to 499\n",
       "17         1000 to 4999\n",
       "18           250 to 499\n",
       "19         1000 to 4999\n",
       "20         1000 to 4999\n",
       "21           250 to 499\n",
       "22           250 to 499\n",
       "23           250 to 499\n",
       "24           250 to 499\n",
       "25           500 to 999\n",
       "26           500 to 999\n",
       "27           250 to 499\n",
       "28           500 to 999\n",
       "29           250 to 499\n",
       "              ...      \n",
       "10483        500 to 999\n",
       "10484        250 to 499\n",
       "10485      1000 to 4999\n",
       "10486      1000 to 4999\n",
       "10487        250 to 499\n",
       "10488     Less than 250\n",
       "10489        250 to 499\n",
       "10490      1000 to 4999\n",
       "10491        250 to 499\n",
       "10492        500 to 999\n",
       "10493        250 to 499\n",
       "10494        250 to 499\n",
       "10495        250 to 499\n",
       "10496        250 to 499\n",
       "10497        250 to 499\n",
       "10498        250 to 499\n",
       "10499        250 to 499\n",
       "10500        250 to 499\n",
       "10501        250 to 499\n",
       "10502        250 to 499\n",
       "10503        250 to 499\n",
       "10504      1000 to 4999\n",
       "10505        250 to 499\n",
       "10506        250 to 499\n",
       "10507        250 to 499\n",
       "10508        500 to 999\n",
       "10509      1000 to 4999\n",
       "10510      1000 to 4999\n",
       "10511        250 to 499\n",
       "10512        500 to 999\n",
       "Name: EmployerSize, Length: 10513, dtype: object"
      ]
     },
     "execution_count": 4,
     "metadata": {},
     "output_type": "execute_result"
    }
   ],
   "source": [
    "df.EmployerSize\n"
   ]
  },
  {
   "cell_type": "code",
   "execution_count": 5,
   "metadata": {},
   "outputs": [
    {
     "data": {
      "text/plain": [
       "array(['500 to 999', '250 to 499', '5000 to 19,999', '1000 to 4999',\n",
       "       'Not Provided', 'Less than 250', '20,000 or more'], dtype=object)"
      ]
     },
     "execution_count": 5,
     "metadata": {},
     "output_type": "execute_result"
    }
   ],
   "source": [
    "df.EmployerSize.unique()"
   ]
  },
  {
   "cell_type": "code",
   "execution_count": 6,
   "metadata": {},
   "outputs": [],
   "source": [
    "df = df[(df.EmployerSize != '250 to 499') & (df.EmployerSize != 'Less than 250') & (df.EmployerSize != 'Not Provided')]"
   ]
  },
  {
   "cell_type": "code",
   "execution_count": 7,
   "metadata": {},
   "outputs": [
    {
     "data": {
      "text/plain": [
       "EmployerName                                   \"Bryanston School\",Incorporated\n",
       "Address                      Bryanston House,\\r\\nBlandford,\\r\\nDorset,\\r\\nU...\n",
       "CompanyNumber                                                         00226143\n",
       "SicCodes                                                                 85310\n",
       "DiffMeanHourlyPercent                                                       18\n",
       "DiffMedianHourlyPercent                                                   28.2\n",
       "DiffMeanBonusPercent                                                         0\n",
       "DiffMedianBonusPercent                                                       0\n",
       "MaleBonusPercent                                                             0\n",
       "FemaleBonusPercent                                                           0\n",
       "MaleLowerQuartile                                                         24.4\n",
       "FemaleLowerQuartile                                                       75.6\n",
       "MaleLowerMiddleQuartile                                                   50.8\n",
       "FemaleLowerMiddleQuartile                                                 49.2\n",
       "MaleUpperMiddleQuartile                                                   49.2\n",
       "FemaleUpperMiddleQuartile                                                 50.8\n",
       "MaleTopQuartile                                                           51.5\n",
       "FemaleTopQuartile                                                         48.5\n",
       "CompanyLinkToGPGInfo                    https://www.bryanston.co.uk/employment\n",
       "ResponsiblePerson              Nick McRobb (Bursar and Clerk to the Governors)\n",
       "EmployerSize                                                        500 to 999\n",
       "CurrentName                                    \"Bryanston School\",Incorporated\n",
       "SubmittedAfterTheDeadline                                                False\n",
       "Name: 0, dtype: object"
      ]
     },
     "execution_count": 7,
     "metadata": {},
     "output_type": "execute_result"
    }
   ],
   "source": [
    "df.loc[0]"
   ]
  },
  {
   "cell_type": "code",
   "execution_count": 8,
   "metadata": {},
   "outputs": [
    {
     "data": {
      "text/html": [
       "<div>\n",
       "<style scoped>\n",
       "    .dataframe tbody tr th:only-of-type {\n",
       "        vertical-align: middle;\n",
       "    }\n",
       "\n",
       "    .dataframe tbody tr th {\n",
       "        vertical-align: top;\n",
       "    }\n",
       "\n",
       "    .dataframe thead th {\n",
       "        text-align: right;\n",
       "    }\n",
       "</style>\n",
       "<table border=\"1\" class=\"dataframe\">\n",
       "  <thead>\n",
       "    <tr style=\"text-align: right;\">\n",
       "      <th></th>\n",
       "      <th>EmployerName</th>\n",
       "      <th>Address</th>\n",
       "      <th>CompanyNumber</th>\n",
       "      <th>SicCodes</th>\n",
       "      <th>DiffMeanHourlyPercent</th>\n",
       "      <th>DiffMedianHourlyPercent</th>\n",
       "      <th>DiffMeanBonusPercent</th>\n",
       "      <th>DiffMedianBonusPercent</th>\n",
       "      <th>MaleBonusPercent</th>\n",
       "      <th>FemaleBonusPercent</th>\n",
       "      <th>...</th>\n",
       "      <th>FemaleLowerMiddleQuartile</th>\n",
       "      <th>MaleUpperMiddleQuartile</th>\n",
       "      <th>FemaleUpperMiddleQuartile</th>\n",
       "      <th>MaleTopQuartile</th>\n",
       "      <th>FemaleTopQuartile</th>\n",
       "      <th>CompanyLinkToGPGInfo</th>\n",
       "      <th>ResponsiblePerson</th>\n",
       "      <th>EmployerSize</th>\n",
       "      <th>CurrentName</th>\n",
       "      <th>SubmittedAfterTheDeadline</th>\n",
       "    </tr>\n",
       "  </thead>\n",
       "  <tbody>\n",
       "    <tr>\n",
       "      <th>0</th>\n",
       "      <td>\"Bryanston School\",Incorporated</td>\n",
       "      <td>Bryanston House,\\r\\nBlandford,\\r\\nDorset,\\r\\nU...</td>\n",
       "      <td>00226143</td>\n",
       "      <td>85310</td>\n",
       "      <td>18.0</td>\n",
       "      <td>28.2</td>\n",
       "      <td>0.0</td>\n",
       "      <td>0.0</td>\n",
       "      <td>0.0</td>\n",
       "      <td>0.0</td>\n",
       "      <td>...</td>\n",
       "      <td>49.2</td>\n",
       "      <td>49.2</td>\n",
       "      <td>50.8</td>\n",
       "      <td>51.5</td>\n",
       "      <td>48.5</td>\n",
       "      <td>https://www.bryanston.co.uk/employment</td>\n",
       "      <td>Nick McRobb (Bursar and Clerk to the Governors)</td>\n",
       "      <td>500 to 999</td>\n",
       "      <td>\"Bryanston School\",Incorporated</td>\n",
       "      <td>False</td>\n",
       "    </tr>\n",
       "    <tr>\n",
       "      <th>2</th>\n",
       "      <td>118 LIMITED</td>\n",
       "      <td>Fusion Point,\\r\\nDumballs Road,\\r\\nCardiff,\\r\\...</td>\n",
       "      <td>03951948</td>\n",
       "      <td>61900</td>\n",
       "      <td>1.7</td>\n",
       "      <td>2.8</td>\n",
       "      <td>13.1</td>\n",
       "      <td>13.6</td>\n",
       "      <td>70.0</td>\n",
       "      <td>57.0</td>\n",
       "      <td>...</td>\n",
       "      <td>47.0</td>\n",
       "      <td>50.0</td>\n",
       "      <td>50.0</td>\n",
       "      <td>58.0</td>\n",
       "      <td>42.0</td>\n",
       "      <td>NaN</td>\n",
       "      <td>Emma Crowe (VP, Human Resources)</td>\n",
       "      <td>500 to 999</td>\n",
       "      <td>118 LIMITED</td>\n",
       "      <td>False</td>\n",
       "    </tr>\n",
       "    <tr>\n",
       "      <th>6</th>\n",
       "      <td>1LIFE MANAGEMENT SOLUTIONS LIMITED</td>\n",
       "      <td>Ldh House St Ives Business Park,\\r\\nParsons Gr...</td>\n",
       "      <td>02566586</td>\n",
       "      <td>93110,\\r\\n93130,\\r\\n93290</td>\n",
       "      <td>15.1</td>\n",
       "      <td>2.8</td>\n",
       "      <td>77.6</td>\n",
       "      <td>71.2</td>\n",
       "      <td>5.8</td>\n",
       "      <td>4.2</td>\n",
       "      <td>...</td>\n",
       "      <td>54.8</td>\n",
       "      <td>46.8</td>\n",
       "      <td>53.2</td>\n",
       "      <td>35.5</td>\n",
       "      <td>64.5</td>\n",
       "      <td>http://www.1life.co.uk/gender-pay-gap</td>\n",
       "      <td>Mark Braithwaite (Managing Director)</td>\n",
       "      <td>500 to 999</td>\n",
       "      <td>1LIFE MANAGEMENT SOLUTIONS LIMITED</td>\n",
       "      <td>False</td>\n",
       "    </tr>\n",
       "    <tr>\n",
       "      <th>10</th>\n",
       "      <td>2 SISTERS FOOD GROUP LIMITED</td>\n",
       "      <td>Trinity Park House Trinity Business Park, Fox ...</td>\n",
       "      <td>02826929</td>\n",
       "      <td>10120</td>\n",
       "      <td>15.3</td>\n",
       "      <td>6.9</td>\n",
       "      <td>55.5</td>\n",
       "      <td>1.6</td>\n",
       "      <td>5.6</td>\n",
       "      <td>5.1</td>\n",
       "      <td>...</td>\n",
       "      <td>32.4</td>\n",
       "      <td>66.2</td>\n",
       "      <td>33.8</td>\n",
       "      <td>73.7</td>\n",
       "      <td>26.3</td>\n",
       "      <td>https://www.2sfg.com/about-us/how-we-work/gender/</td>\n",
       "      <td>Nigel Perry (Group People &amp; Change Director)</td>\n",
       "      <td>5000 to 19,999</td>\n",
       "      <td>2 SISTERS FOOD GROUP LIMITED</td>\n",
       "      <td>False</td>\n",
       "    </tr>\n",
       "    <tr>\n",
       "      <th>11</th>\n",
       "      <td>2 SISTERS POULTRY LIMITED</td>\n",
       "      <td>George Street, Coupar Angus,\\r\\nBlairgowrie,\\r...</td>\n",
       "      <td>SC440782</td>\n",
       "      <td>10120</td>\n",
       "      <td>4.9</td>\n",
       "      <td>4.8</td>\n",
       "      <td>39.8</td>\n",
       "      <td>0.0</td>\n",
       "      <td>22.2</td>\n",
       "      <td>12.4</td>\n",
       "      <td>...</td>\n",
       "      <td>31.5</td>\n",
       "      <td>68.5</td>\n",
       "      <td>31.5</td>\n",
       "      <td>72.4</td>\n",
       "      <td>27.6</td>\n",
       "      <td>https://www.2sfg.com/about-us/how-we-work/gender/</td>\n",
       "      <td>Nigel Perry (Group People &amp; Change Director)</td>\n",
       "      <td>1000 to 4999</td>\n",
       "      <td>2 SISTERS POULTRY LIMITED</td>\n",
       "      <td>False</td>\n",
       "    </tr>\n",
       "  </tbody>\n",
       "</table>\n",
       "<p>5 rows × 23 columns</p>\n",
       "</div>"
      ],
      "text/plain": [
       "                          EmployerName  \\\n",
       "0      \"Bryanston School\",Incorporated   \n",
       "2                          118 LIMITED   \n",
       "6   1LIFE MANAGEMENT SOLUTIONS LIMITED   \n",
       "10        2 SISTERS FOOD GROUP LIMITED   \n",
       "11           2 SISTERS POULTRY LIMITED   \n",
       "\n",
       "                                              Address CompanyNumber  \\\n",
       "0   Bryanston House,\\r\\nBlandford,\\r\\nDorset,\\r\\nU...      00226143   \n",
       "2   Fusion Point,\\r\\nDumballs Road,\\r\\nCardiff,\\r\\...      03951948   \n",
       "6   Ldh House St Ives Business Park,\\r\\nParsons Gr...      02566586   \n",
       "10  Trinity Park House Trinity Business Park, Fox ...      02826929   \n",
       "11  George Street, Coupar Angus,\\r\\nBlairgowrie,\\r...      SC440782   \n",
       "\n",
       "                     SicCodes  DiffMeanHourlyPercent  DiffMedianHourlyPercent  \\\n",
       "0                       85310                   18.0                     28.2   \n",
       "2                       61900                    1.7                      2.8   \n",
       "6   93110,\\r\\n93130,\\r\\n93290                   15.1                      2.8   \n",
       "10                      10120                   15.3                      6.9   \n",
       "11                      10120                    4.9                      4.8   \n",
       "\n",
       "    DiffMeanBonusPercent  DiffMedianBonusPercent  MaleBonusPercent  \\\n",
       "0                    0.0                     0.0               0.0   \n",
       "2                   13.1                    13.6              70.0   \n",
       "6                   77.6                    71.2               5.8   \n",
       "10                  55.5                     1.6               5.6   \n",
       "11                  39.8                     0.0              22.2   \n",
       "\n",
       "    FemaleBonusPercent            ...             FemaleLowerMiddleQuartile  \\\n",
       "0                  0.0            ...                                  49.2   \n",
       "2                 57.0            ...                                  47.0   \n",
       "6                  4.2            ...                                  54.8   \n",
       "10                 5.1            ...                                  32.4   \n",
       "11                12.4            ...                                  31.5   \n",
       "\n",
       "    MaleUpperMiddleQuartile  FemaleUpperMiddleQuartile  MaleTopQuartile  \\\n",
       "0                      49.2                       50.8             51.5   \n",
       "2                      50.0                       50.0             58.0   \n",
       "6                      46.8                       53.2             35.5   \n",
       "10                     66.2                       33.8             73.7   \n",
       "11                     68.5                       31.5             72.4   \n",
       "\n",
       "    FemaleTopQuartile                               CompanyLinkToGPGInfo  \\\n",
       "0                48.5             https://www.bryanston.co.uk/employment   \n",
       "2                42.0                                                NaN   \n",
       "6                64.5              http://www.1life.co.uk/gender-pay-gap   \n",
       "10               26.3  https://www.2sfg.com/about-us/how-we-work/gender/   \n",
       "11               27.6  https://www.2sfg.com/about-us/how-we-work/gender/   \n",
       "\n",
       "                                  ResponsiblePerson    EmployerSize  \\\n",
       "0   Nick McRobb (Bursar and Clerk to the Governors)      500 to 999   \n",
       "2                  Emma Crowe (VP, Human Resources)      500 to 999   \n",
       "6              Mark Braithwaite (Managing Director)      500 to 999   \n",
       "10     Nigel Perry (Group People & Change Director)  5000 to 19,999   \n",
       "11     Nigel Perry (Group People & Change Director)    1000 to 4999   \n",
       "\n",
       "                           CurrentName SubmittedAfterTheDeadline  \n",
       "0      \"Bryanston School\",Incorporated                     False  \n",
       "2                          118 LIMITED                     False  \n",
       "6   1LIFE MANAGEMENT SOLUTIONS LIMITED                     False  \n",
       "10        2 SISTERS FOOD GROUP LIMITED                     False  \n",
       "11           2 SISTERS POULTRY LIMITED                     False  \n",
       "\n",
       "[5 rows x 23 columns]"
      ]
     },
     "execution_count": 8,
     "metadata": {},
     "output_type": "execute_result"
    }
   ],
   "source": [
    "df.head()"
   ]
  },
  {
   "cell_type": "code",
   "execution_count": 9,
   "metadata": {},
   "outputs": [],
   "source": [
    "df_close_to_parity = df[(df['DiffMedianHourlyPercent'] < 5) & (df['DiffMedianHourlyPercent'] > 0)]"
   ]
  },
  {
   "cell_type": "code",
   "execution_count": 10,
   "metadata": {},
   "outputs": [],
   "source": [
    "df_close_to_parity = df_close_to_parity.dropna(subset = ['CompanyNumber'])"
   ]
  },
  {
   "cell_type": "code",
   "execution_count": 11,
   "metadata": {},
   "outputs": [],
   "source": [
    "company_numbers = df_close_to_parity.CompanyNumber.values"
   ]
  },
  {
   "cell_type": "code",
   "execution_count": 12,
   "metadata": {},
   "outputs": [
    {
     "ename": "SyntaxError",
     "evalue": "unexpected EOF while parsing (<ipython-input-12-5c5926e50258>, line 2)",
     "output_type": "error",
     "traceback": [
      "\u001b[0;36m  File \u001b[0;32m\"<ipython-input-12-5c5926e50258>\"\u001b[0;36m, line \u001b[0;32m2\u001b[0m\n\u001b[0;31m    \u001b[0m\n\u001b[0m    ^\u001b[0m\n\u001b[0;31mSyntaxError\u001b[0m\u001b[0;31m:\u001b[0m unexpected EOF while parsing\n"
     ]
    }
   ],
   "source": [
    "for company_num in company_numbers:\n",
    "    "
   ]
  }
 ],
 "metadata": {
  "kernelspec": {
   "display_name": "Python [conda env:companies-house-api]",
   "language": "python",
   "name": "conda-env-companies-house-api-py"
  },
  "language_info": {
   "codemirror_mode": {
    "name": "ipython",
    "version": 3
   },
   "file_extension": ".py",
   "mimetype": "text/x-python",
   "name": "python",
   "nbconvert_exporter": "python",
   "pygments_lexer": "ipython3",
   "version": "3.6.5"
  }
 },
 "nbformat": 4,
 "nbformat_minor": 2
}
